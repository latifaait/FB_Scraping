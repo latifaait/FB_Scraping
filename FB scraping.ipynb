{
 "cells": [
  {
   "cell_type": "markdown",
   "metadata": {},
   "source": [
    "# Part 1"
   ]
  },
  {
   "cell_type": "code",
   "execution_count": 1,
   "metadata": {},
   "outputs": [],
   "source": [
    "from time import sleep\n",
    "\n",
    "from bs4 import BeautifulSoup\n",
    "\n",
    "from selenium import webdriver\n",
    "from selenium.webdriver.common.keys import Keys\n",
    "from selenium.common.exceptions import TimeoutException\n",
    "from selenium.webdriver.support.ui import WebDriverWait\n",
    "from selenium.webdriver.support.ui import Select\n",
    "from selenium.webdriver.common.by import By\n",
    "from selenium.webdriver.support import expected_conditions\n",
    "from selenium.common.exceptions import NoSuchElementException\n",
    "\n",
    "\n",
    "import pandas as pd"
   ]
  },
  {
   "cell_type": "code",
   "execution_count": 2,
   "metadata": {},
   "outputs": [
    {
     "name": "stdout",
     "output_type": "stream",
     "text": [
      "Opened facebook...\n"
     ]
    }
   ],
   "source": [
    "#ChromeDriver. WebDriver is an open source tool for automated testing of webapps across many browsers. \n",
    "#It provides capabilities for navigating to web pages, user input, JavaScript execution, and more.\n",
    "\n",
    "#Here It will launch the webdriver\n",
    "driver = webdriver.Chrome(executable_path=\"C:\\\\Users\\\\DELL\\\\Desktop\\\\PFE\\\\PFE-GIT\\\\chromedriver.exe\") \n",
    "\n",
    "driver.get('https://www.facebook.com/login.php?login_attempt=1&lwv=110')\n",
    "print(\"Opened facebook...\")\n",
    "email = driver.find_element_by_xpath(\"//input[@id='email' or @name='email']\")\n",
    "email.send_keys('Enter you email here ')\n",
    "password = driver.find_element_by_xpath(\"//input[@id='pass']\")\n",
    "password.send_keys('Enter you password here')\n",
    "button = driver.find_element_by_xpath(\"//button[@id='loginbutton']\")\n",
    "button.click()\n"
   ]
  },
  {
   "cell_type": "code",
   "execution_count": 341,
   "metadata": {},
   "outputs": [],
   "source": [
    "#Here it will launch the page needed to scrape\n",
    "driver.get('Enter your page link here ')"
   ]
  },
  {
   "cell_type": "code",
   "execution_count": 349,
   "metadata": {},
   "outputs": [
    {
     "name": "stdout",
     "output_type": "stream",
     "text": [
      "Scrolling through to click on more comments 40\n",
      "nombre de repondres trouvés : 5\n",
      "1\n",
      "2\n",
      "the results:\n",
      "Scrolling through to click on more comments 40\n",
      "nombre de voir plus trouvés : 5\n",
      "nombre de commentaires trouvés : 404\n",
      "nombre de commentaires trouvés : 441\n"
     ]
    }
   ],
   "source": [
    "moreComments = driver.find_elements_by_xpath('//*[@class=\"_4sxc _42ft\"]')\n",
    "print(\"Scrolling through to click on more comments\", len(moreComments))\n",
    "reply = driver.find_elements_by_xpath('//*[@class=\"_4sxc _42ft\"]')\n",
    "print('numbre of replies founded :',len(reply))\n",
    "seeMore = driver.find_elements_by_xpath('//*[@class=\"_5v47 fss\"]')\n",
    "print('numbre of seeMore founded :',len(seeMore))\n",
    "i=0\n",
    "while len(moreComments) != 0 and (i < 2):\n",
    "    i=i+1\n",
    "    for moreComment in moreComments:\n",
    "        action = webdriver.common.action_chains.ActionChains(driver)\n",
    "        try:\n",
    "            # move to where the comment button is\n",
    "            action.move_to_element_with_offset(moreComment, 5, 5)\n",
    "            action.perform()\n",
    "            moreComment.click()\n",
    "        except:\n",
    "            # do nothing right here\n",
    "            pass\n",
    "    for rep in reply:\n",
    "        action = webdriver.common.action_chains.ActionChains(driver)\n",
    "        try:\n",
    "            # move to where the reply button is\n",
    "            action.move_to_element_with_offset(rep, 71, 20)\n",
    "            action.perform()\n",
    "            rep.click()\n",
    "        except:\n",
    "            pass\n",
    "    for seeM in seeMore:\n",
    "        action = webdriver.common.action_chains.ActionChains(driver)\n",
    "        try:\n",
    "            # move to where the seeMore button is\n",
    "            action.move_to_element_with_offset(seeM, 50, 15)\n",
    "            action.perform()\n",
    "            seeM.click()\n",
    "        except:\n",
    "            pass\n",
    "    print(i)    \n",
    "    seeMore = driver.find_elements_by_xpath('//*[@class=\"_5v47 fss\"]')\n",
    "    moreComments = driver.find_elements_by_xpath('//*[@class=\"_4sxc _42ft\"]')\n",
    "    reply= driver.find_elements_by_xpath('//div[@class=\"_4sxc _42ft\"]') \n",
    "print(\"the results:\")\n",
    "moreComments = driver.find_elements_by_xpath('//*[@class=\"_4sxc _42ft\"]')\n",
    "print(\"Scrolling through to click on more comments\", len(moreComments))\n",
    "reply = driver.find_elements_by_xpath('//*[@class=\"_4sxc _42ft\"]')\n",
    "print('numbre of replies founded :',len(reply))\n",
    "seeMore = driver.find_elements_by_xpath('//*[@class=\"_5v47 fss\"]')\n",
    "print('numbre of seeMore founded :',len(seeMore))\n",
    "commentaires = driver.find_elements_by_xpath('//*[@class=\" _5wj- _5wj_\"]')\n",
    "print('numbre de comments founded :', str(len(commentaires)))\n",
    "commentaires = driver.find_elements_by_xpath('//*[@dir=\"rtl\"]')\n",
    "print('numbre de comments founded :', str(len(commentaires)))"
   ]
  },
  {
   "cell_type": "code",
   "execution_count": 337,
   "metadata": {},
   "outputs": [
    {
     "name": "stdout",
     "output_type": "stream",
     "text": [
      "nombre de commentaires trouvés : 561\n"
     ]
    }
   ],
   "source": [
    "commentaires = driver.find_elements_by_xpath('//*[@dir=\"rtl\"]')\n",
    "#author = driver.find_elements_by_xpath(\"//a [@class='_6qw4']\")\n",
    "print('Total of comment founded :', str(len(commentaires)))\n",
    "comment = []\n",
    "for i in range(len(commentaires)):\n",
    "    comment.append(commentaires[i].text )   \n",
    "   # author.append(author[i].text)\n",
    "\n",
    "#Upload the data to a CSV file    \n",
    "data = {  '': comment, }\n",
    "df_product = pd.DataFrame.from_dict(data)\n",
    "#encoding: utf-8-sig for arabic encode\n",
    "df_product.to_csv('DataScraped.csv',  encoding='utf-8-sig')"
   ]
  },
  {
   "cell_type": "markdown",
   "metadata": {},
   "source": [
    "# Part 2"
   ]
  },
  {
   "cell_type": "markdown",
   "metadata": {},
   "source": [
    "## For Live Videos"
   ]
  },
  {
   "cell_type": "code",
   "execution_count": 298,
   "metadata": {},
   "outputs": [],
   "source": [
    "#Fore live Videos\n",
    "driver.get('https://www.facebook.com/MustaphaSwinga/videos/228633911753318/')"
   ]
  },
  {
   "cell_type": "code",
   "execution_count": 84,
   "metadata": {},
   "outputs": [
    {
     "name": "stdout",
     "output_type": "stream",
     "text": [
      "Scrolling through to click on more comments 1\n",
      "nombre de voir plus trouvés : 6\n",
      "1\n",
      "2\n",
      "3\n",
      "4\n",
      "5\n",
      "6\n",
      "7\n",
      "8\n",
      "9\n",
      "10\n",
      "11\n",
      "the results:\n",
      "Scrolling through to click on more comments 0\n",
      "nombre de voir plus trouvés : 6\n",
      "nombre de commentaires trouvés : 231\n",
      "nombre de commentaires trouvés : 441\n"
     ]
    }
   ],
   "source": [
    "moreComments = driver.find_elements_by_xpath('//*[@class=\"UFIPagerLink\"]')\n",
    "print(\"Scrolling through to click on more comments\", len(moreComments))\n",
    "seeMore = driver.find_elements_by_xpath('//*[@class=\"oajrlxb2 g5ia77u1 qu0x051f esr5mh6w e9989ue4 r7d6kgcz rq0escxv nhd2j8a9 nc684nl6 p7hjln8o kvgmc6g5 cxmmr5t8 oygrvhab hcukyx3x jb3vyjys rz4wbd8a qt6c0cv9 a8nywdso i1ao9s8h esuyzwwr f1sip0of lzcic4wl oo9gr5id gpro0wi8 lrazzd5p\"]')\n",
    "print('nombre de voir plus trouvés :',len(seeMore))\n",
    "i=0\n",
    "while len(moreComments) != 0 and (i < 80):\n",
    "    i=i+1\n",
    "    for moreComment in moreComments:\n",
    "        action = webdriver.common.action_chains.ActionChains(driver)\n",
    "        try:\n",
    "            # move to where the comment button is\n",
    "            action.move_to_element_with_offset(moreComment, 5, 5)\n",
    "            action.perform()\n",
    "            moreComment.click()\n",
    "        except:\n",
    "            # do nothing right here\n",
    "            pass\n",
    "    #for rep in reply:\n",
    "        #action = webdriver.common.action_chains.ActionChains(driver)\n",
    "        #try:\n",
    "            #action.move_to_element_with_offset(rep, 5, 5)\n",
    "            #action.perform()\n",
    "            #rep.click()\n",
    "        #except:\n",
    "            #pass\n",
    "    for seeM in seeMore:\n",
    "        action = webdriver.common.action_chains.ActionChains(driver)\n",
    "        try:\n",
    "            action.move_to_element_with_offset(seeM, 5, 5)\n",
    "            action.perform()\n",
    "            seeM.click()\n",
    "        except:\n",
    "            pass\n",
    "    print(i)    \n",
    "    moreComments = driver.find_elements_by_xpath('//*[@class=\"UFIPagerLink\"]')\n",
    "    seeMore = driver.find_elements_by_xpath('//*[@class=\"oajrlxb2 g5ia77u1 qu0x051f esr5mh6w e9989ue4 r7d6kgcz rq0escxv nhd2j8a9 nc684nl6 p7hjln8o kvgmc6g5 cxmmr5t8 oygrvhab hcukyx3x jb3vyjys rz4wbd8a qt6c0cv9 a8nywdso i1ao9s8h esuyzwwr f1sip0of lzcic4wl oo9gr5id gpro0wi8 lrazzd5p\"]')\n",
    "    #reply = driver.find_elements_by_xpath('//*[@class=\"oajrlxb2 bp9cbjyn g5ia77u1 mtkw9kbi tlpljxtp qensuy8j ppp5ayq2 goun2846 ccm00jje s44p3ltw mk2mc5f4 rt8b4zig n8ej3o3l agehan2d sk4xxmp2 rq0escxv nhd2j8a9 pq6dq46d mg4g778l btwxx1t3 pfnyh3mw p7hjln8o kvgmc6g5 cxmmr5t8 oygrvhab hcukyx3x tgvbjcpo hpfvmrgz jb3vyjys rz4wbd8a qt6c0cv9 a8nywdso l9j0dhe7 i1ao9s8h esuyzwwr f1sip0of du4w35lb lzcic4wl abiwlrkh p8dawk7l buofh1pr\"]')\n",
    "print(\"the results:\")\n",
    "moreComments = driver.find_elements_by_xpath('//*[@class=\"UFIPagerLink\"]')\n",
    "print(\"Scrolling through to click on more comments\", len(moreComments))\n",
    "seeMore = driver.find_elements_by_xpath('//*[@class=\"oajrlxb2 g5ia77u1 qu0x051f esr5mh6w e9989ue4 r7d6kgcz rq0escxv nhd2j8a9 nc684nl6 p7hjln8o kvgmc6g5 cxmmr5t8 oygrvhab hcukyx3x jb3vyjys rz4wbd8a qt6c0cv9 a8nywdso i1ao9s8h esuyzwwr f1sip0of lzcic4wl oo9gr5id gpro0wi8 lrazzd5p\"]')\n",
    "print('numbre of seeMore found :',len(seeMore))\n",
    "commentaires = driver.find_elements_by_xpath('//*[@class=\" _5wj- _5wj_\"]')\n",
    "print('numbre of comments founded :', str(len(commentaires)))\n",
    "commentaires = driver.find_elements_by_xpath('//*[@class=\"UFICommentBody\"]')\n",
    "print('numbre of comments founded :', str(len(commentaires)))"
   ]
  },
  {
   "cell_type": "code",
   "execution_count": 85,
   "metadata": {},
   "outputs": [
    {
     "name": "stdout",
     "output_type": "stream",
     "text": [
      "nombre de commentaires trouvés : 441\n"
     ]
    }
   ],
   "source": [
    "commentaires = driver.find_elements_by_xpath('//*[@class=\"UFICommentBody\"]')\n",
    "\n",
    "print('nombre de commentaires trouvés :', str(len(commentaires)))\n",
    "comment = []\n",
    "for i in range(len(commentaires)):\n",
    "    comment.append(commentaires[i].text )   \n",
    "    \n",
    "#Upload the data to a CSV file    \n",
    "data = {  '': comment}\n",
    "df_product = pd.DataFrame.from_dict(data)\n",
    "df_product.to_csv('DataScraped2.csv',  encoding='utf-8-sig')"
   ]
  }
 ],
 "metadata": {
  "celltoolbar": "Raw Cell Format",
  "kernelspec": {
   "display_name": "Python 3",
   "language": "python",
   "name": "python3"
  },
  "language_info": {
   "codemirror_mode": {
    "name": "ipython",
    "version": 3
   },
   "file_extension": ".py",
   "mimetype": "text/x-python",
   "name": "python",
   "nbconvert_exporter": "python",
   "pygments_lexer": "ipython3",
   "version": "3.8.3"
  }
 },
 "nbformat": 4,
 "nbformat_minor": 2
}
